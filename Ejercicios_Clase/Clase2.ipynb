{
 "cells": [
  {
   "cell_type": "markdown",
   "metadata": {},
   "source": [
    "**EJERCICIO EN CLASE 18/10/2024**"
   ]
  },
  {
   "cell_type": "code",
   "execution_count": 2,
   "metadata": {},
   "outputs": [
    {
     "data": {
      "text/html": [
       "<div>\n",
       "<style scoped>\n",
       "    .dataframe tbody tr th:only-of-type {\n",
       "        vertical-align: middle;\n",
       "    }\n",
       "\n",
       "    .dataframe tbody tr th {\n",
       "        vertical-align: top;\n",
       "    }\n",
       "\n",
       "    .dataframe thead th {\n",
       "        text-align: right;\n",
       "    }\n",
       "</style>\n",
       "<table border=\"1\" class=\"dataframe\">\n",
       "  <thead>\n",
       "    <tr style=\"text-align: right;\">\n",
       "      <th></th>\n",
       "      <th>COUNTRY</th>\n",
       "      <th>SUBBRAND</th>\n",
       "      <th>YEAR</th>\n",
       "      <th>MONTH</th>\n",
       "      <th>SCENARIO</th>\n",
       "      <th>FORECAST</th>\n",
       "      <th>FORECAST_YEAR</th>\n",
       "      <th>AMOUNT</th>\n",
       "    </tr>\n",
       "  </thead>\n",
       "  <tbody>\n",
       "    <tr>\n",
       "      <th>0</th>\n",
       "      <td>Portugal</td>\n",
       "      <td>Lipton (L3)</td>\n",
       "      <td>2023</td>\n",
       "      <td>12</td>\n",
       "      <td>AI_forecast</td>\n",
       "      <td>AI_P02F</td>\n",
       "      <td>2023.0</td>\n",
       "      <td>7,54356E+15</td>\n",
       "    </tr>\n",
       "    <tr>\n",
       "      <th>1</th>\n",
       "      <td>Great Britain</td>\n",
       "      <td>Lipton (L3)</td>\n",
       "      <td>2023</td>\n",
       "      <td>12</td>\n",
       "      <td>AI_forecast</td>\n",
       "      <td>AI_P10F</td>\n",
       "      <td>2023.0</td>\n",
       "      <td>5,60031E+15</td>\n",
       "    </tr>\n",
       "    <tr>\n",
       "      <th>2</th>\n",
       "      <td>Spain</td>\n",
       "      <td>Pepsi Max (L3)</td>\n",
       "      <td>2023</td>\n",
       "      <td>12</td>\n",
       "      <td>AI_forecast</td>\n",
       "      <td>AI_P09F</td>\n",
       "      <td>2023.0</td>\n",
       "      <td>8,8502E+15</td>\n",
       "    </tr>\n",
       "    <tr>\n",
       "      <th>3</th>\n",
       "      <td>Great Britain</td>\n",
       "      <td>7up (L3)</td>\n",
       "      <td>2024</td>\n",
       "      <td>12</td>\n",
       "      <td>AI_forecast</td>\n",
       "      <td>AI_P10F</td>\n",
       "      <td>2023.0</td>\n",
       "      <td>3,63225E+15</td>\n",
       "    </tr>\n",
       "    <tr>\n",
       "      <th>4</th>\n",
       "      <td>Hungary</td>\n",
       "      <td>Lipton (L3)</td>\n",
       "      <td>2023</td>\n",
       "      <td>9</td>\n",
       "      <td>AI_forecast</td>\n",
       "      <td>AI_P03F</td>\n",
       "      <td>2023.0</td>\n",
       "      <td>3,96176E+16</td>\n",
       "    </tr>\n",
       "  </tbody>\n",
       "</table>\n",
       "</div>"
      ],
      "text/plain": [
       "         COUNTRY        SUBBRAND  YEAR  MONTH     SCENARIO FORECAST  \\\n",
       "0       Portugal     Lipton (L3)  2023     12  AI_forecast  AI_P02F   \n",
       "1  Great Britain     Lipton (L3)  2023     12  AI_forecast  AI_P10F   \n",
       "2          Spain  Pepsi Max (L3)  2023     12  AI_forecast  AI_P09F   \n",
       "3  Great Britain        7up (L3)  2024     12  AI_forecast  AI_P10F   \n",
       "4        Hungary     Lipton (L3)  2023      9  AI_forecast  AI_P03F   \n",
       "\n",
       "   FORECAST_YEAR       AMOUNT  \n",
       "0         2023.0  7,54356E+15  \n",
       "1         2023.0  5,60031E+15  \n",
       "2         2023.0   8,8502E+15  \n",
       "3         2023.0  3,63225E+15  \n",
       "4         2023.0  3,96176E+16  "
      ]
     },
     "execution_count": 2,
     "metadata": {},
     "output_type": "execute_result"
    }
   ],
   "source": [
    "import pandas as pd\n",
    "\n",
    "data = pd.read_csv('datos_ejercicio_ventas.csv', delimiter=';')\n",
    "data.head()"
   ]
  },
  {
   "cell_type": "code",
   "execution_count": 3,
   "metadata": {},
   "outputs": [
    {
     "data": {
      "text/plain": [
       "(18666, 8)"
      ]
     },
     "execution_count": 3,
     "metadata": {},
     "output_type": "execute_result"
    }
   ],
   "source": [
    "data.shape"
   ]
  },
  {
   "cell_type": "code",
   "execution_count": 4,
   "metadata": {},
   "outputs": [
    {
     "name": "stdout",
     "output_type": "stream",
     "text": [
      "<class 'pandas.core.frame.DataFrame'>\n",
      "RangeIndex: 18666 entries, 0 to 18665\n",
      "Data columns (total 8 columns):\n",
      " #   Column         Non-Null Count  Dtype  \n",
      "---  ------         --------------  -----  \n",
      " 0   COUNTRY        18666 non-null  object \n",
      " 1   SUBBRAND       18666 non-null  object \n",
      " 2   YEAR           18666 non-null  int64  \n",
      " 3   MONTH          18666 non-null  int64  \n",
      " 4   SCENARIO       18666 non-null  object \n",
      " 5   FORECAST       17766 non-null  object \n",
      " 6   FORECAST_YEAR  17766 non-null  float64\n",
      " 7   AMOUNT         18666 non-null  object \n",
      "dtypes: float64(1), int64(2), object(5)\n",
      "memory usage: 1.1+ MB\n"
     ]
    }
   ],
   "source": [
    "data.info()"
   ]
  },
  {
   "cell_type": "markdown",
   "metadata": {},
   "source": [
    "DATASET:\n",
    "CADA REGISTRO REPRESENTA LA CANTIDAD VENDIDA DE UN PRODUCTO EN UN PAÍS Y EN UN INSTANTE TEMPORAL (DADO EN MESES). ESTA CANTIDAD PUEDE SER UN DATO REAL O UNA PREDICCIÓN HECHA.\n",
    "* 'COUNTRY': STRING, PAÍS, VARIABLE CATEGÓRICA.\n",
    "* 'SUBBRAND': STRING, PRODUCTO, VARIABLE CATEGÓRICA.\n",
    "* 'YEAR': INT, AÑO DEL VALOR, VARIABLE DISCRETA.\n",
    "* 'MONTH': INT, MES DEL VALOR, VARIABLE DISCRETA.\n",
    "* 'SCENARIO': STRING, INDICA SI EL VALOR ES REAL O UNA PREDICCIÓN, VARIABLE CATEGÓRICA.\n",
    "* 'FORECAST': STRING, SI ES UNA PREDICCIÓN, INDICA EL PERÍODO DESDE EL QUE SE HACE LA PREDICCIÓN. MÁS CONCRETAMENTE, 'P0X' indica que se está en el final del mes X-1. LO INDICA A MES VENCIDO. 'P02' ES FINALES DE ENERO / PRINCIPIOS DE FEBRERO. VARIABLE CATEGORICA\n",
    "* 'FORECAST_YEAR': FLOAT, EL AÑO DESDE EL QUE SE ESTÁ HACIENDO LA PREVISIÓN, VARIABLE DISCRETA.\n",
    "* 'AMOUNT': STRING, AUNQUE REPRESENTA UN NÚMERO. E+ALGO SE REFIERE A E A LA ALGO. REPRESENTA UNA VARIABLE CONTINUA."
   ]
  },
  {
   "cell_type": "markdown",
   "metadata": {},
   "source": [
    "**NULLS EN 'FORECAST' Y 'FORECAST_YEAR', ADEMÁS EL MISMO Nº DE NULLS EN CADA UNA** "
   ]
  },
  {
   "cell_type": "code",
   "execution_count": 5,
   "metadata": {},
   "outputs": [
    {
     "data": {
      "text/plain": [
       "COUNTRY            0\n",
       "SUBBRAND           0\n",
       "YEAR               0\n",
       "MONTH              0\n",
       "SCENARIO           0\n",
       "FORECAST         900\n",
       "FORECAST_YEAR    900\n",
       "AMOUNT             0\n",
       "dtype: int64"
      ]
     },
     "execution_count": 5,
     "metadata": {},
     "output_type": "execute_result"
    }
   ],
   "source": [
    "data.isna().sum()"
   ]
  },
  {
   "cell_type": "code",
   "execution_count": 6,
   "metadata": {},
   "outputs": [
    {
     "data": {
      "text/html": [
       "<div>\n",
       "<style scoped>\n",
       "    .dataframe tbody tr th:only-of-type {\n",
       "        vertical-align: middle;\n",
       "    }\n",
       "\n",
       "    .dataframe tbody tr th {\n",
       "        vertical-align: top;\n",
       "    }\n",
       "\n",
       "    .dataframe thead th {\n",
       "        text-align: right;\n",
       "    }\n",
       "</style>\n",
       "<table border=\"1\" class=\"dataframe\">\n",
       "  <thead>\n",
       "    <tr style=\"text-align: right;\">\n",
       "      <th></th>\n",
       "      <th>COUNTRY</th>\n",
       "      <th>SUBBRAND</th>\n",
       "      <th>YEAR</th>\n",
       "      <th>MONTH</th>\n",
       "      <th>SCENARIO</th>\n",
       "      <th>FORECAST</th>\n",
       "      <th>FORECAST_YEAR</th>\n",
       "      <th>AMOUNT</th>\n",
       "    </tr>\n",
       "  </thead>\n",
       "  <tbody>\n",
       "    <tr>\n",
       "      <th>277</th>\n",
       "      <td>Portugal</td>\n",
       "      <td>Pepsi Max (L3)</td>\n",
       "      <td>2023</td>\n",
       "      <td>10</td>\n",
       "      <td>actual</td>\n",
       "      <td>NaN</td>\n",
       "      <td>NaN</td>\n",
       "      <td>1,88595E+16</td>\n",
       "    </tr>\n",
       "    <tr>\n",
       "      <th>278</th>\n",
       "      <td>Portugal</td>\n",
       "      <td>7up (L3)</td>\n",
       "      <td>2023</td>\n",
       "      <td>3</td>\n",
       "      <td>actual</td>\n",
       "      <td>NaN</td>\n",
       "      <td>NaN</td>\n",
       "      <td>2,93497E+15</td>\n",
       "    </tr>\n",
       "    <tr>\n",
       "      <th>279</th>\n",
       "      <td>Portugal</td>\n",
       "      <td>7up (L3)</td>\n",
       "      <td>2023</td>\n",
       "      <td>10</td>\n",
       "      <td>actual</td>\n",
       "      <td>NaN</td>\n",
       "      <td>NaN</td>\n",
       "      <td>3,48447E+16</td>\n",
       "    </tr>\n",
       "    <tr>\n",
       "      <th>280</th>\n",
       "      <td>Great Britain</td>\n",
       "      <td>7up Free (L3)</td>\n",
       "      <td>2023</td>\n",
       "      <td>10</td>\n",
       "      <td>actual</td>\n",
       "      <td>NaN</td>\n",
       "      <td>NaN</td>\n",
       "      <td>1,17255E+16</td>\n",
       "    </tr>\n",
       "    <tr>\n",
       "      <th>281</th>\n",
       "      <td>Norway</td>\n",
       "      <td>Pepsi Regular (L3)</td>\n",
       "      <td>2023</td>\n",
       "      <td>10</td>\n",
       "      <td>actual</td>\n",
       "      <td>NaN</td>\n",
       "      <td>NaN</td>\n",
       "      <td>3,78486E+15</td>\n",
       "    </tr>\n",
       "    <tr>\n",
       "      <th>...</th>\n",
       "      <td>...</td>\n",
       "      <td>...</td>\n",
       "      <td>...</td>\n",
       "      <td>...</td>\n",
       "      <td>...</td>\n",
       "      <td>...</td>\n",
       "      <td>...</td>\n",
       "      <td>...</td>\n",
       "    </tr>\n",
       "    <tr>\n",
       "      <th>18595</th>\n",
       "      <td>Great Britain</td>\n",
       "      <td>Lipton (L3)</td>\n",
       "      <td>2023</td>\n",
       "      <td>9</td>\n",
       "      <td>actual</td>\n",
       "      <td>NaN</td>\n",
       "      <td>NaN</td>\n",
       "      <td>8,49263E+15</td>\n",
       "    </tr>\n",
       "    <tr>\n",
       "      <th>18596</th>\n",
       "      <td>Italy</td>\n",
       "      <td>Pepsi Regular (L3)</td>\n",
       "      <td>2023</td>\n",
       "      <td>9</td>\n",
       "      <td>actual</td>\n",
       "      <td>NaN</td>\n",
       "      <td>NaN</td>\n",
       "      <td>1,56257E+16</td>\n",
       "    </tr>\n",
       "    <tr>\n",
       "      <th>18597</th>\n",
       "      <td>Great Britain</td>\n",
       "      <td>7up Free (L3)</td>\n",
       "      <td>2023</td>\n",
       "      <td>9</td>\n",
       "      <td>actual</td>\n",
       "      <td>NaN</td>\n",
       "      <td>NaN</td>\n",
       "      <td>1,29323E+15</td>\n",
       "    </tr>\n",
       "    <tr>\n",
       "      <th>18598</th>\n",
       "      <td>Great Britain</td>\n",
       "      <td>Mountain Dew (L3)</td>\n",
       "      <td>2023</td>\n",
       "      <td>9</td>\n",
       "      <td>actual</td>\n",
       "      <td>NaN</td>\n",
       "      <td>NaN</td>\n",
       "      <td>2,06646E+16</td>\n",
       "    </tr>\n",
       "    <tr>\n",
       "      <th>18599</th>\n",
       "      <td>Spain</td>\n",
       "      <td>7up Free (L3)</td>\n",
       "      <td>2023</td>\n",
       "      <td>9</td>\n",
       "      <td>actual</td>\n",
       "      <td>NaN</td>\n",
       "      <td>NaN</td>\n",
       "      <td>7,58888E+14</td>\n",
       "    </tr>\n",
       "  </tbody>\n",
       "</table>\n",
       "<p>900 rows × 8 columns</p>\n",
       "</div>"
      ],
      "text/plain": [
       "             COUNTRY            SUBBRAND  YEAR  MONTH SCENARIO FORECAST  \\\n",
       "277         Portugal      Pepsi Max (L3)  2023     10   actual      NaN   \n",
       "278         Portugal            7up (L3)  2023      3   actual      NaN   \n",
       "279         Portugal            7up (L3)  2023     10   actual      NaN   \n",
       "280    Great Britain       7up Free (L3)  2023     10   actual      NaN   \n",
       "281           Norway  Pepsi Regular (L3)  2023     10   actual      NaN   \n",
       "...              ...                 ...   ...    ...      ...      ...   \n",
       "18595  Great Britain         Lipton (L3)  2023      9   actual      NaN   \n",
       "18596          Italy  Pepsi Regular (L3)  2023      9   actual      NaN   \n",
       "18597  Great Britain       7up Free (L3)  2023      9   actual      NaN   \n",
       "18598  Great Britain   Mountain Dew (L3)  2023      9   actual      NaN   \n",
       "18599          Spain       7up Free (L3)  2023      9   actual      NaN   \n",
       "\n",
       "       FORECAST_YEAR       AMOUNT  \n",
       "277              NaN  1,88595E+16  \n",
       "278              NaN  2,93497E+15  \n",
       "279              NaN  3,48447E+16  \n",
       "280              NaN  1,17255E+16  \n",
       "281              NaN  3,78486E+15  \n",
       "...              ...          ...  \n",
       "18595            NaN  8,49263E+15  \n",
       "18596            NaN  1,56257E+16  \n",
       "18597            NaN  1,29323E+15  \n",
       "18598            NaN  2,06646E+16  \n",
       "18599            NaN  7,58888E+14  \n",
       "\n",
       "[900 rows x 8 columns]"
      ]
     },
     "execution_count": 6,
     "metadata": {},
     "output_type": "execute_result"
    }
   ],
   "source": [
    "data[(data['FORECAST'].isna()) & (data['FORECAST_YEAR'].isna())]"
   ]
  },
  {
   "cell_type": "markdown",
   "metadata": {},
   "source": [
    "**TODOS LOS NAN'S DE 'FORECAST' SON TAMBIÉN TODOS LOS NAN'S DE 'FORECAST_YEAR'**"
   ]
  },
  {
   "cell_type": "code",
   "execution_count": 8,
   "metadata": {},
   "outputs": [
    {
     "data": {
      "text/html": [
       "<div>\n",
       "<style scoped>\n",
       "    .dataframe tbody tr th:only-of-type {\n",
       "        vertical-align: middle;\n",
       "    }\n",
       "\n",
       "    .dataframe tbody tr th {\n",
       "        vertical-align: top;\n",
       "    }\n",
       "\n",
       "    .dataframe thead th {\n",
       "        text-align: right;\n",
       "    }\n",
       "</style>\n",
       "<table border=\"1\" class=\"dataframe\">\n",
       "  <thead>\n",
       "    <tr style=\"text-align: right;\">\n",
       "      <th></th>\n",
       "      <th>COUNTRY</th>\n",
       "      <th>SUBBRAND</th>\n",
       "      <th>YEAR</th>\n",
       "      <th>MONTH</th>\n",
       "      <th>SCENARIO</th>\n",
       "      <th>FORECAST</th>\n",
       "      <th>FORECAST_YEAR</th>\n",
       "      <th>AMOUNT</th>\n",
       "    </tr>\n",
       "  </thead>\n",
       "  <tbody>\n",
       "    <tr>\n",
       "      <th>277</th>\n",
       "      <td>Portugal</td>\n",
       "      <td>Pepsi Max (L3)</td>\n",
       "      <td>2023</td>\n",
       "      <td>10</td>\n",
       "      <td>actual</td>\n",
       "      <td>NaN</td>\n",
       "      <td>NaN</td>\n",
       "      <td>1,88595E+16</td>\n",
       "    </tr>\n",
       "    <tr>\n",
       "      <th>278</th>\n",
       "      <td>Portugal</td>\n",
       "      <td>7up (L3)</td>\n",
       "      <td>2023</td>\n",
       "      <td>3</td>\n",
       "      <td>actual</td>\n",
       "      <td>NaN</td>\n",
       "      <td>NaN</td>\n",
       "      <td>2,93497E+15</td>\n",
       "    </tr>\n",
       "    <tr>\n",
       "      <th>279</th>\n",
       "      <td>Portugal</td>\n",
       "      <td>7up (L3)</td>\n",
       "      <td>2023</td>\n",
       "      <td>10</td>\n",
       "      <td>actual</td>\n",
       "      <td>NaN</td>\n",
       "      <td>NaN</td>\n",
       "      <td>3,48447E+16</td>\n",
       "    </tr>\n",
       "    <tr>\n",
       "      <th>280</th>\n",
       "      <td>Great Britain</td>\n",
       "      <td>7up Free (L3)</td>\n",
       "      <td>2023</td>\n",
       "      <td>10</td>\n",
       "      <td>actual</td>\n",
       "      <td>NaN</td>\n",
       "      <td>NaN</td>\n",
       "      <td>1,17255E+16</td>\n",
       "    </tr>\n",
       "    <tr>\n",
       "      <th>281</th>\n",
       "      <td>Norway</td>\n",
       "      <td>Pepsi Regular (L3)</td>\n",
       "      <td>2023</td>\n",
       "      <td>10</td>\n",
       "      <td>actual</td>\n",
       "      <td>NaN</td>\n",
       "      <td>NaN</td>\n",
       "      <td>3,78486E+15</td>\n",
       "    </tr>\n",
       "    <tr>\n",
       "      <th>...</th>\n",
       "      <td>...</td>\n",
       "      <td>...</td>\n",
       "      <td>...</td>\n",
       "      <td>...</td>\n",
       "      <td>...</td>\n",
       "      <td>...</td>\n",
       "      <td>...</td>\n",
       "      <td>...</td>\n",
       "    </tr>\n",
       "    <tr>\n",
       "      <th>18595</th>\n",
       "      <td>Great Britain</td>\n",
       "      <td>Lipton (L3)</td>\n",
       "      <td>2023</td>\n",
       "      <td>9</td>\n",
       "      <td>actual</td>\n",
       "      <td>NaN</td>\n",
       "      <td>NaN</td>\n",
       "      <td>8,49263E+15</td>\n",
       "    </tr>\n",
       "    <tr>\n",
       "      <th>18596</th>\n",
       "      <td>Italy</td>\n",
       "      <td>Pepsi Regular (L3)</td>\n",
       "      <td>2023</td>\n",
       "      <td>9</td>\n",
       "      <td>actual</td>\n",
       "      <td>NaN</td>\n",
       "      <td>NaN</td>\n",
       "      <td>1,56257E+16</td>\n",
       "    </tr>\n",
       "    <tr>\n",
       "      <th>18597</th>\n",
       "      <td>Great Britain</td>\n",
       "      <td>7up Free (L3)</td>\n",
       "      <td>2023</td>\n",
       "      <td>9</td>\n",
       "      <td>actual</td>\n",
       "      <td>NaN</td>\n",
       "      <td>NaN</td>\n",
       "      <td>1,29323E+15</td>\n",
       "    </tr>\n",
       "    <tr>\n",
       "      <th>18598</th>\n",
       "      <td>Great Britain</td>\n",
       "      <td>Mountain Dew (L3)</td>\n",
       "      <td>2023</td>\n",
       "      <td>9</td>\n",
       "      <td>actual</td>\n",
       "      <td>NaN</td>\n",
       "      <td>NaN</td>\n",
       "      <td>2,06646E+16</td>\n",
       "    </tr>\n",
       "    <tr>\n",
       "      <th>18599</th>\n",
       "      <td>Spain</td>\n",
       "      <td>7up Free (L3)</td>\n",
       "      <td>2023</td>\n",
       "      <td>9</td>\n",
       "      <td>actual</td>\n",
       "      <td>NaN</td>\n",
       "      <td>NaN</td>\n",
       "      <td>7,58888E+14</td>\n",
       "    </tr>\n",
       "  </tbody>\n",
       "</table>\n",
       "<p>900 rows × 8 columns</p>\n",
       "</div>"
      ],
      "text/plain": [
       "             COUNTRY            SUBBRAND  YEAR  MONTH SCENARIO FORECAST  \\\n",
       "277         Portugal      Pepsi Max (L3)  2023     10   actual      NaN   \n",
       "278         Portugal            7up (L3)  2023      3   actual      NaN   \n",
       "279         Portugal            7up (L3)  2023     10   actual      NaN   \n",
       "280    Great Britain       7up Free (L3)  2023     10   actual      NaN   \n",
       "281           Norway  Pepsi Regular (L3)  2023     10   actual      NaN   \n",
       "...              ...                 ...   ...    ...      ...      ...   \n",
       "18595  Great Britain         Lipton (L3)  2023      9   actual      NaN   \n",
       "18596          Italy  Pepsi Regular (L3)  2023      9   actual      NaN   \n",
       "18597  Great Britain       7up Free (L3)  2023      9   actual      NaN   \n",
       "18598  Great Britain   Mountain Dew (L3)  2023      9   actual      NaN   \n",
       "18599          Spain       7up Free (L3)  2023      9   actual      NaN   \n",
       "\n",
       "       FORECAST_YEAR       AMOUNT  \n",
       "277              NaN  1,88595E+16  \n",
       "278              NaN  2,93497E+15  \n",
       "279              NaN  3,48447E+16  \n",
       "280              NaN  1,17255E+16  \n",
       "281              NaN  3,78486E+15  \n",
       "...              ...          ...  \n",
       "18595            NaN  8,49263E+15  \n",
       "18596            NaN  1,56257E+16  \n",
       "18597            NaN  1,29323E+15  \n",
       "18598            NaN  2,06646E+16  \n",
       "18599            NaN  7,58888E+14  \n",
       "\n",
       "[900 rows x 8 columns]"
      ]
     },
     "execution_count": 8,
     "metadata": {},
     "output_type": "execute_result"
    }
   ],
   "source": [
    "data[data['SCENARIO'] == 'actual']"
   ]
  },
  {
   "cell_type": "markdown",
   "metadata": {},
   "source": [
    "**TODOS LOS NAN'S SE DAN CUANDO EL DATO ES REAL. ESTO TIENE SENTIDO, YA QUE SI TENGO EL DATO REAL, NO HAY PREDICCIÓN**"
   ]
  },
  {
   "cell_type": "markdown",
   "metadata": {},
   "source": [
    "**COSAS QUE QUIERE VER EL PROFE**:\n",
    "1. Nº ACTUALS Y FORECAST.\n",
    "2. HORIZONTE DE PREVISIÓN. PISTA: ES EL MISMO SIEMPRE.\n",
    "3. Nº PAÍSES, PRODUCTOS.\n",
    "4. HISTÓRICO DE DATOS DE ACTUALS / FORECAST.\n",
    "5. Nº DE FORECAST DISTINTOS."
   ]
  },
  {
   "cell_type": "markdown",
   "metadata": {},
   "source": [
    "1. Nº ACTUALS Y FORECAST."
   ]
  },
  {
   "cell_type": "code",
   "execution_count": 12,
   "metadata": {},
   "outputs": [
    {
     "data": {
      "text/plain": [
       "900"
      ]
     },
     "execution_count": 12,
     "metadata": {},
     "output_type": "execute_result"
    }
   ],
   "source": [
    "data[data['SCENARIO'] == 'actual'].shape[0]"
   ]
  },
  {
   "cell_type": "markdown",
   "metadata": {},
   "source": [
    "HAY 900 DATOS REALES."
   ]
  },
  {
   "cell_type": "code",
   "execution_count": 14,
   "metadata": {},
   "outputs": [
    {
     "data": {
      "text/plain": [
       "17766"
      ]
     },
     "execution_count": 14,
     "metadata": {},
     "output_type": "execute_result"
    }
   ],
   "source": [
    "data[data['SCENARIO'] == 'AI_forecast'].shape[0]"
   ]
  },
  {
   "cell_type": "markdown",
   "metadata": {},
   "source": [
    "HAY 17766 VALORES PREDICHOS."
   ]
  },
  {
   "cell_type": "markdown",
   "metadata": {},
   "source": [
    "2. HORIZONTE DE PREVISIÓN."
   ]
  },
  {
   "cell_type": "markdown",
   "metadata": {},
   "source": [
    "El instante en el que se predice para una marca de un país viene dado por la combinación de 'FORECAST' y 'FORECAST_YEAR'. Para ver cuál es el horizonte de previsión para cada predicción hecha, basta con ver cuántas filas hay para cada combinación de ('FORECAST', 'FORECAST_YEAR', 'COUNTRY', 'SUBBRAND')."
   ]
  },
  {
   "cell_type": "code",
   "execution_count": 17,
   "metadata": {},
   "outputs": [
    {
     "data": {
      "text/plain": [
       "FORECAST  FORECAST_YEAR  COUNTRY  SUBBRAND          \n",
       "AI_P02F   2023.0         Czech    7up (L3)              18\n",
       "                                  Lipton (L3)           18\n",
       "                                  Mountain Dew (L3)     18\n",
       "                                  Pepsi Max (L3)        18\n",
       "                                  Pepsi Regular (L3)    36\n",
       "                                                        ..\n",
       "AI_PF     2023.0         Spain    7up (L3)              18\n",
       "                                  7up Free (L3)         18\n",
       "                                  Lipton (L3)           18\n",
       "                                  Pepsi Max (L3)        18\n",
       "                                  Pepsi Regular (L3)    18\n",
       "Length: 564, dtype: int64"
      ]
     },
     "execution_count": 17,
     "metadata": {},
     "output_type": "execute_result"
    }
   ],
   "source": [
    "data.groupby(['FORECAST', 'FORECAST_YEAR', 'COUNTRY', 'SUBBRAND']).size().head(50)"
   ]
  },
  {
   "cell_type": "code",
   "execution_count": 16,
   "metadata": {},
   "outputs": [
    {
     "name": "stdout",
     "output_type": "stream",
     "text": [
      "[ 18  36  54  72  90 180]\n"
     ]
    }
   ],
   "source": [
    "import pandas as pd\n",
    "import numpy as np\n",
    "\n",
    "# Agrupar por las columnas necesarias y contar el número de ocurrencias\n",
    "horizontes_distintos = data.groupby(['FORECAST', 'FORECAST_YEAR', 'COUNTRY', 'SUBBRAND']).size()\n",
    "\n",
    "# Obtener los valores únicos de los tamaños de los grupos\n",
    "horizontes_unicos = horizontes_distintos.unique()\n",
    "\n",
    "# Mostrar los horizontes únicos\n",
    "print(horizontes_unicos)"
   ]
  }
 ],
 "metadata": {
  "kernelspec": {
   "display_name": "Python 3",
   "language": "python",
   "name": "python3"
  },
  "language_info": {
   "codemirror_mode": {
    "name": "ipython",
    "version": 3
   },
   "file_extension": ".py",
   "mimetype": "text/x-python",
   "name": "python",
   "nbconvert_exporter": "python",
   "pygments_lexer": "ipython3",
   "version": "3.12.2"
  }
 },
 "nbformat": 4,
 "nbformat_minor": 2
}
